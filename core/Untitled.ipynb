{
 "cells": [
  {
   "cell_type": "code",
   "execution_count": 1,
   "id": "53d1cd47-6615-4c41-8330-ae45daf49702",
   "metadata": {},
   "outputs": [],
   "source": [
    "source_dir = \"../raw_data/Taylor-Swift-Lyrics/data/Albums\""
   ]
  },
  {
   "cell_type": "code",
   "execution_count": 2,
   "id": "e72748fa-e871-4961-9a54-358d90909c8b",
   "metadata": {},
   "outputs": [],
   "source": [
    "target_dir = \"../data\""
   ]
  },
  {
   "cell_type": "code",
   "execution_count": 3,
   "id": "b7a5ec6d-4cb5-477f-838f-a4ac6662bb54",
   "metadata": {},
   "outputs": [],
   "source": [
    "import os"
   ]
  },
  {
   "cell_type": "code",
   "execution_count": 4,
   "id": "7427d58a-46c0-40a6-8af2-c87f867dc948",
   "metadata": {},
   "outputs": [],
   "source": [
    "import shutil"
   ]
  },
  {
   "cell_type": "code",
   "execution_count": 5,
   "id": "a0fac17e-3169-4622-879c-f77dc90be970",
   "metadata": {},
   "outputs": [],
   "source": [
    "def process_and_copy_files(source_dir, target_dir):\n",
    "    for root, _, files in os.walk(source_dir):\n",
    "        for file in files:\n",
    "            if file.endswith(\".txt\"):\n",
    "                source_path_raw = os.path.join(root, file)\n",
    "                target_path_raw = os.path.join(target_dir, file)\n",
    "                with open(source_path_raw, \"r\", encoding=\"utf-8\") as source_file:\n",
    "                    lines = source_file.readlines()\n",
    "                processed_lines = lines[1:]\n",
    "                with open(target_path_raw, \"w\", encoding=\"utf-8\") as target_file:\n",
    "                    target_file.writelines(processed_lines)\n",
    "            \n",
    "\n",
    "\n",
    "        "
   ]
  },
  {
   "cell_type": "code",
   "execution_count": 6,
   "id": "8e9df599-cdf5-48c2-8514-5e339558b1a6",
   "metadata": {},
   "outputs": [],
   "source": [
    "process_and_copy_files(source_dir, target_dir)"
   ]
  },
  {
   "cell_type": "code",
   "execution_count": 7,
   "id": "278c81c0-18b3-46f2-ab67-6cfcb21959ce",
   "metadata": {},
   "outputs": [],
   "source": [
    "import random\n"
   ]
  },
  {
   "cell_type": "code",
   "execution_count": 8,
   "id": "e0dc9bb2-c206-486b-8127-9e57573403d4",
   "metadata": {},
   "outputs": [],
   "source": [
    "def extract_words_from_files(target_dir, num_files=100, num_words=200):    \n",
    "    all_files = [os.path.join(target_dir, file) for file in os.listdir(target_dir) if file.endswith(\".txt\")]  \n",
    "    selected_files = random.sample(all_files, min(num_files, len(all_files)))\n",
    "    extracted_data =   [] \n",
    "    for file_path in selected_files:        \n",
    "        song_title = os.path.splitext(os.path.basename(file_path))[0]        \n",
    "        \n",
    "        with open(file_path, \"r\", encoding=\"utf-8\") as file:\n",
    "            content = file.read()\n",
    "            words = content.split()            \n",
    "            \n",
    "            extracted_text = \" \".join(words[:num_words])            \n",
    "            \n",
    "            extracted_data.append((song_title, extracted_text))\n",
    "            \n",
    "    return extracted_data\n",
    "    \n",
    "    "
   ]
  },
  {
   "cell_type": "code",
   "execution_count": 9,
   "id": "d2b3cf2c-e2a3-4846-9b3b-1b55c54413fb",
   "metadata": {},
   "outputs": [],
   "source": [
    "from sentence_transformers import SentenceTransformer"
   ]
  },
  {
   "cell_type": "code",
   "execution_count": 10,
   "id": "3f4d7833-9db1-4cac-83eb-7911077f2697",
   "metadata": {},
   "outputs": [],
   "source": [
    "def generate_vectors(text_data, model_name=\"all-MiniLM-L6-v2\"):\n",
    "    # Initialize the SentenceTransformer model\n",
    "    model = SentenceTransformer(model_name)\n",
    "    \n",
    "    # Check if text_data is a list of tuples or just a list of strings\n",
    "    if isinstance(text_data[0], tuple):\n",
    "        # Extract only the song texts for encoding\n",
    "        song_texts = [text for _, text in text_data]\n",
    "        song_titles = [title for title, _ in text_data]\n",
    "    else:\n",
    "        # Assume text_data is a list of strings (no titles provided)\n",
    "        song_texts = text_data\n",
    "        song_titles = [f\"Song_{i}\" for i in range(len(text_data))]  # Generate generic titles\n",
    "    \n",
    "    # Generate vectors for the song texts\n",
    "    vectors = model.encode(song_texts)\n",
    "    \n",
    "    # Combine song titles with their corresponding vectors\n",
    "    song_vectors = [(title, vector) for title, vector in zip(song_titles, vectors)]\n",
    "    \n",
    "    return song_vectors"
   ]
  },
  {
   "cell_type": "code",
   "execution_count": 11,
   "id": "a7ad557c-ef5b-4966-ad39-645f171c7c0c",
   "metadata": {},
   "outputs": [],
   "source": [
    "import faiss"
   ]
  },
  {
   "cell_type": "code",
   "execution_count": 12,
   "id": "3fe9530c-56c6-44a2-b988-6c9fd58ff17b",
   "metadata": {},
   "outputs": [],
   "source": [
    "import numpy as np"
   ]
  },
  {
   "cell_type": "code",
   "execution_count": 13,
   "id": "11a2ab5c-f69e-46ea-acfd-c3e728957975",
   "metadata": {},
   "outputs": [],
   "source": [
    "def create_faiss_index_with_titles(song_vectors):\n",
    "    \n",
    "    \n",
    "    titles = [item[0] for item in song_vectors]\n",
    "    vectors = np.array([item[1] for item in song_vectors])\n",
    "\n",
    "   \n",
    "    dimension = vectors.shape[1] \n",
    "    index = faiss.IndexFlatL2(dimension)  \n",
    "    index.add(vectors)  \n",
    "\n",
    "    return {\"index\": index, \"titles\": titles}\n",
    "\n",
    "\n",
    "\n",
    "\n",
    "\n",
    "\n",
    "    "
   ]
  },
  {
   "cell_type": "code",
   "execution_count": 14,
   "id": "65744d10-391b-4a34-8da4-475e36873dda",
   "metadata": {},
   "outputs": [],
   "source": [
    "def search_songs_by_word_or_phrase(query, extracted_data, faiss_index, top_k=10):\n",
    "    \n",
    "    # Filter songs containing the query word/phrase\n",
    "    filtered_songs = [(title, text) for title, text in extracted_data if query.lower() in text.lower()]\n",
    "\n",
    "    if not filtered_songs:\n",
    "        return f\"No songs found containing the word/phrase: '{query}'\"\n",
    "\n",
    "    # Extract the titles and texts of the filtered songs\n",
    "    filtered_titles = [title for title, _ in filtered_songs]\n",
    "    filtered_texts = [text for _, text in filtered_songs]\n",
    "\n",
    "    # Generate vectors for the filtered texts\n",
    "    model = SentenceTransformer(\"all-MiniLM-L6-v2\")\n",
    "    filtered_vectors = model.encode(filtered_texts)\n",
    "\n",
    "    # Search for the top K most similar songs in the FAISS index\n",
    "    distances, indices = faiss_index[\"index\"].search(np.array(filtered_vectors), top_k)\n",
    "\n",
    "    # Map the FAISS indices back to the song titles\n",
    "    results = []\n",
    "    for i, title in enumerate(filtered_titles):\n",
    "        for j in range(top_k):\n",
    "            faiss_title = faiss_index[\"titles\"][indices[i][j]]\n",
    "            similarity = distances[i][j]\n",
    "            results.append((faiss_title, similarity, filtered_texts[i]))\n",
    "\n",
    "    # Sort results by similarity (lower distance is better)\n",
    "    results = sorted(results, key=lambda x: x[1])\n",
    "\n",
    "    return results[:top_k]\n"
   ]
  },
  {
   "cell_type": "code",
   "execution_count": 15,
   "id": "0b3550ab-eaed-42ff-89eb-0ba96f0ebf8d",
   "metadata": {},
   "outputs": [],
   "source": [
    "extracted_data = extract_words_from_files(target_dir)"
   ]
  },
  {
   "cell_type": "code",
   "execution_count": 16,
   "id": "d4ec7a02-45a3-44c2-ad16-7919d0017f4c",
   "metadata": {},
   "outputs": [],
   "source": [
    "song_vectors = generate_vectors(extracted_data)"
   ]
  },
  {
   "cell_type": "code",
   "execution_count": 17,
   "id": "b8a35fff-c2dc-4bb9-81a3-f96e1f1d34e2",
   "metadata": {},
   "outputs": [],
   "source": [
    "faiss_index = create_faiss_index_with_titles(song_vectors)"
   ]
  },
  {
   "cell_type": "code",
   "execution_count": 18,
   "id": "ad2b0040-1541-4b0f-855b-ca3df84415e7",
   "metadata": {},
   "outputs": [],
   "source": [
    "top_k = 10\n"
   ]
  },
  {
   "cell_type": "code",
   "execution_count": 19,
   "id": "635329b7-0b28-47a1-a29d-801d54216f2b",
   "metadata": {},
   "outputs": [],
   "source": [
    "query = \"smile\""
   ]
  },
  {
   "cell_type": "code",
   "execution_count": null,
   "id": "ce743656-ff2a-4797-9ebe-c39a9869c446",
   "metadata": {},
   "outputs": [],
   "source": [
    "results = search_songs_by_word_or_phrase(query, extracted_data, faiss_index, top_k)"
   ]
  },
  {
   "cell_type": "code",
   "execution_count": 8,
   "id": "ba70c79d-d8b6-44f8-9557-8d80943cbd86",
   "metadata": {},
   "outputs": [],
   "source": []
  }
 ],
 "metadata": {
  "kernelspec": {
   "display_name": "Python 3 (ipykernel)",
   "language": "python",
   "name": "python3"
  },
  "language_info": {
   "codemirror_mode": {
    "name": "ipython",
    "version": 3
   },
   "file_extension": ".py",
   "mimetype": "text/x-python",
   "name": "python",
   "nbconvert_exporter": "python",
   "pygments_lexer": "ipython3",
   "version": "3.11.7"
  },
  "widgets": {
   "application/vnd.jupyter.widget-state+json": {
    "state": {},
    "version_major": 2,
    "version_minor": 0
   }
  }
 },
 "nbformat": 4,
 "nbformat_minor": 5
}
