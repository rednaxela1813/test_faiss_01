{
 "cells": [
  {
   "cell_type": "code",
   "execution_count": 2,
   "id": "0a737a5a-cf00-46d8-8f82-52eeb8d10bb1",
   "metadata": {},
   "outputs": [],
   "source": [
    "import os"
   ]
  },
  {
   "cell_type": "code",
   "execution_count": 3,
   "id": "0501c6ce-d961-4adc-a152-970a19cc2585",
   "metadata": {},
   "outputs": [],
   "source": [
    "import shutil"
   ]
  },
  {
   "cell_type": "code",
   "execution_count": 4,
   "id": "846f1641-9a8b-4d88-b721-74e0a51ed82c",
   "metadata": {},
   "outputs": [],
   "source": [
    "def process_and_copy_files(source_dir, target_dir):\n",
    "     \n",
    "    #Processes and copies text files from the source directory to the target directory.\n",
    "\n",
    "    #This function performs the following steps:\n",
    "   # 1. Checks if the target directory exists; if not, it creates it.\n",
    "   # 2. Iterates through all files in the source directory and its subdirectories.\n",
    "   # 3. Identifies files with a \".txt\" extension.\n",
    "   # 4. Reads the content of each text file, removes the first line (assumed to be metadata),\n",
    "   #    and writes the remaining content to a new file in the target directory.\n",
    "\n",
    "   # Args:\n",
    "   #     source_dir (str): The path to the source directory containing the text files.\n",
    "   #     target_dir (str): The path to the target directory where processed files will be saved.\n",
    "\n",
    "   # Returns:\n",
    "   #     None\n",
    "    \n",
    "    if not os.path.exists(target_dir):\n",
    "        os.makedirs(target_dir)\n",
    "    \n",
    "    for root, _, files in os.walk(source_dir):\n",
    "        for file in files:\n",
    "            if file.endswith(\".txt\"):\n",
    "                source_path_raw = os.path.join(root, file)\n",
    "                target_path_raw = os.path.join(target_dir, file)\n",
    "                with open(source_path_raw, \"r\", encoding=\"utf-8\") as source_file:\n",
    "                    lines = source_file.readlines()\n",
    "                # Remove the first line (metadata) and save the rest\n",
    "                processed_lines = lines[1:]\n",
    "                with open(target_path_raw, \"w\", encoding=\"utf-8\") as target_file:\n",
    "                    target_file.writelines(processed_lines)"
   ]
  },
  {
   "cell_type": "code",
   "execution_count": 5,
   "id": "3bd5bf88-56ef-4ccf-8971-1f4b38210559",
   "metadata": {},
   "outputs": [],
   "source": [
    "import random"
   ]
  },
  {
   "cell_type": "code",
   "execution_count": 6,
   "id": "ffb912b3-a2b4-4419-8d5f-0c17c0b716ed",
   "metadata": {},
   "outputs": [],
   "source": [
    "def extract_words_from_files(target_dir, num_files=100, num_words=200):\n",
    "    \n",
    "   # Extracts a limited number of words from a random selection of text files in the target directory.\n",
    "\n",
    "   # This function performs the following steps:\n",
    "  #  1. Collects all text files in the specified target directory.\n",
    "  #  2. Randomly selects a specified number of files (`num_files`) or fewer if there are not enough files.\n",
    "  #  3. For each selected file:\n",
    "  #      - Reads the content of the file.\n",
    "  #      - Skips the file if it is empty.\n",
    "  #      - Extracts the first `num_words` words from the file's content.\n",
    "  #      - Stores the extracted words along with the file's title (derived from the filename) in a list.\n",
    "  #  4. Returns the list of tuples, where each tuple contains the file title and the extracted text.\n",
    "\n",
    "   # Args:\n",
    "   #     target_dir (str): The path to the directory containing the text files.\n",
    "   #     num_files (int, optional): The maximum number of files to process. Defaults to 100.\n",
    "   #     num_words (int, optional): The maximum number of words to extract from each file. Defaults to 200.\n",
    "\n",
    "   # Returns:\n",
    "   #     list: A list of tuples, where each tuple contains:\n",
    "    #          - The title of the file (str).\n",
    "    #          - The extracted text (str) limited to `num_words` words.\n",
    "    \n",
    "    all_files = [os.path.join(target_dir, file) for file in os.listdir(target_dir) if file.endswith(\".txt\")]\n",
    "    selected_files = random.sample(all_files, min(num_files, len(all_files)))\n",
    "    extracted_data = []   \n",
    "    for file_path in selected_files:\n",
    "        song_title = os.path.splitext(os.path.basename(file_path))[0]\n",
    "        with open(file_path, \"r\", encoding=\"utf-8\") as file:\n",
    "            content = file.read()\n",
    "            if not content.strip():  # Skip empty files\n",
    "                continue\n",
    "            words = content.split()\n",
    "            extracted_text = \" \".join(words[:num_words])  # Limit to the first `num_words`\n",
    "            extracted_data.append((song_title, extracted_text))\n",
    "    \n",
    "    return extracted_data"
   ]
  },
  {
   "cell_type": "code",
   "execution_count": 7,
   "id": "2051bab7-c550-4288-bf18-db3157cd2fe4",
   "metadata": {},
   "outputs": [],
   "source": [
    "from sentence_transformers import SentenceTransformer"
   ]
  },
  {
   "cell_type": "code",
   "execution_count": 8,
   "id": "8e179d51-4616-4a7b-9c20-fbec331da916",
   "metadata": {},
   "outputs": [],
   "source": [
    "model = SentenceTransformer(\"all-mpnet-base-v2\")"
   ]
  },
  {
   "cell_type": "code",
   "execution_count": 9,
   "id": "2ae48cde-0f8b-408d-b532-ce4391484368",
   "metadata": {},
   "outputs": [],
   "source": [
    "def generate_vectors(text_data, model):\n",
    "    #Generates vector representations for a collection of song texts using a given model.\n",
    "\n",
    "   # This function performs the following steps:\n",
    "   # 1. Extracts song texts and their corresponding titles from the input data.\n",
    "   # 2. Uses the provided model to encode the song texts into vector representations.\n",
    "   # 3. Combines the song titles with their corresponding vectors into a list of tuples.\n",
    "   # 4. Returns the list of tuples, where each tuple contains a song title and its vector.\n",
    "\n",
    "    #Args:\n",
    "   #     text_data (list): A list of tuples, where each tuple contains:\n",
    "    #                      - The title of the song (str).\n",
    "     #                     - The text of the song (str).\n",
    "   #     model (object): A model with an `encode` method that generates vector representations\n",
    "    #                    for a list of texts. The `encode` method should support the following parameters:\n",
    "    #                    - `batch_size` (int): The number of texts to process in a single batch.\n",
    "     #                   - `show_progress_bar` (bool): Whether to display a progress bar during encoding.\n",
    "\n",
    "    #Returns:\n",
    "    #    list: A list of tuples, where each tuple contains:\n",
    "    #          - The title of the song (str).\n",
    "    #          - The vector representation of the song text (numpy array or similar format).\n",
    "    # \n",
    "    song_texts = [text for _, text in text_data]\n",
    "    song_titles = [title for title, _ in text_data]\n",
    "    \n",
    "    # Generate vectors for the song texts\n",
    "    vectors = model.encode(song_texts, batch_size=16, show_progress_bar=True)\n",
    "    \n",
    "    # Combine song titles with their corresponding vectors\n",
    "    song_vectors = [(title, vector) for title, vector in zip(song_titles, vectors)]\n",
    "    \n",
    "    return song_vectors"
   ]
  },
  {
   "cell_type": "code",
   "execution_count": 10,
   "id": "23c6fe41-1068-460d-910a-5940b215ab4c",
   "metadata": {},
   "outputs": [],
   "source": [
    "import faiss"
   ]
  },
  {
   "cell_type": "code",
   "execution_count": 11,
   "id": "7e601f2d-b284-4981-b484-22c4fd830aef",
   "metadata": {},
   "outputs": [],
   "source": [
    "import numpy as np"
   ]
  },
  {
   "cell_type": "code",
   "execution_count": 12,
   "id": "c1bbe77b-ee92-477a-ae9f-cbc57b7645ed",
   "metadata": {},
   "outputs": [],
   "source": [
    "def create_faiss_index_with_titles(song_vectors):\n",
    "    \n",
    "   \n",
    "    titles = [item[0] for item in song_vectors]\n",
    "    vectors = np.array([item[1] for item in song_vectors]).astype(\"float32\")  # Ensure correct dtype\n",
    "\n",
    "    # Normalize the vectors\n",
    "    vectors = vectors / np.linalg.norm(vectors, axis=1, keepdims=True)\n",
    "\n",
    "    # Create the FAISS index\n",
    "    dimension = vectors.shape[1]  # Vector dimension\n",
    "    index = faiss.IndexFlatL2(dimension)  # L2 distance index\n",
    "    index.add(vectors)  # Add normalized vectors to the index\n",
    "\n",
    "    return {\"index\": index, \"titles\": titles}"
   ]
  },
  {
   "cell_type": "code",
   "execution_count": 13,
   "id": "a1b07121-85e4-4036-8b43-fb5e5009ebc8",
   "metadata": {},
   "outputs": [],
   "source": [
    "def search_songs_by_word_or_phrase(query, extracted_data, faiss_index, model, top_k=10, similarity_threshold=0.9):\n",
    "    \n",
    "   # Search for the top K most similar songs to the query using FAISS.\n",
    "\n",
    "  #  Args:\n",
    "   #     query (str): The word or phrase to search for.\n",
    "   #     extracted_data (list): The original dataset of song titles and texts (not used here but kept for reference).\n",
    "    #    faiss_index (dict): A dictionary containing the FAISS index and song titles.\n",
    "   #     model (SentenceTransformer): The model used to encode the query into a vector.\n",
    "    #    top_k (int): The number of top results to return.\n",
    "    #    similarity_threshold (float): The minimum similarity score to consider a result valid.\n",
    "\n",
    "   # Returns:\n",
    "   #     list: A list of tuples containing the song title and similarity score for valid matches.\n",
    "   \n",
    "    # Generate a vector for the query\n",
    "    query_vector = model.encode([query], show_progress_bar=False)[0]\n",
    "\n",
    "    # Normalize the query vector\n",
    "    query_vector = query_vector / np.linalg.norm(query_vector)\n",
    "\n",
    "    # Search for the top K most similar songs in the FAISS index\n",
    "    distances, indices = faiss_index[\"index\"].search(np.array([query_vector]).astype(\"float32\"), top_k)\n",
    "\n",
    "    # Map the FAISS indices back to the song titles and filter by similarity threshold\n",
    "    results = []\n",
    "    for i in range(len(indices[0])):\n",
    "        faiss_title = faiss_index[\"titles\"][indices[0][i]]\n",
    "        similarity = 1 - distances[0][i]  # Convert L2 distance to similarity (1 - distance)\n",
    "\n",
    "        if similarity >= similarity_threshold:  # Only include results above the threshold\n",
    "            results.append((faiss_title, similarity))\n",
    "    \n",
    "    return results"
   ]
  },
  {
   "cell_type": "code",
   "execution_count": 14,
   "id": "d34c60f7-423e-416b-8faf-5a93d0a3dad5",
   "metadata": {},
   "outputs": [],
   "source": [
    "source_dir = \"../raw_data/Taylor-Swift-Lyrics/data/Albums\""
   ]
  },
  {
   "cell_type": "code",
   "execution_count": 15,
   "id": "82f5da97-c55d-4dca-8ef5-765af01607ad",
   "metadata": {},
   "outputs": [],
   "source": [
    "target_dir = \"../data\""
   ]
  },
  {
   "cell_type": "code",
   "execution_count": 16,
   "id": "97ffdff5-efc9-4da4-a84a-92272cdd22e8",
   "metadata": {},
   "outputs": [],
   "source": [
    "process_and_copy_files(source_dir, target_dir)"
   ]
  },
  {
   "cell_type": "code",
   "execution_count": 17,
   "id": "d862229a-bbec-410f-a99d-4fa514efaa40",
   "metadata": {},
   "outputs": [],
   "source": [
    "extracted_data = extract_words_from_files(target_dir)\n"
   ]
  },
  {
   "cell_type": "code",
   "execution_count": 18,
   "id": "15268906-9d29-4409-b867-1b314457f8d8",
   "metadata": {},
   "outputs": [
    {
     "data": {
      "application/vnd.jupyter.widget-view+json": {
       "model_id": "abc1e1b15e824847ac31893427c1d3e1",
       "version_major": 2,
       "version_minor": 0
      },
      "text/plain": [
       "Batches:   0%|          | 0/7 [00:00<?, ?it/s]"
      ]
     },
     "metadata": {},
     "output_type": "display_data"
    }
   ],
   "source": [
    "song_vectors = generate_vectors(extracted_data, model)\n"
   ]
  },
  {
   "cell_type": "code",
   "execution_count": 19,
   "id": "7cff6434-1265-4933-993a-44cd828a179e",
   "metadata": {},
   "outputs": [],
   "source": [
    "faiss_index = create_faiss_index_with_titles(song_vectors)"
   ]
  },
  {
   "cell_type": "code",
   "execution_count": 20,
   "id": "fd4a4e18-9636-4260-82ee-f5e67c6b101e",
   "metadata": {},
   "outputs": [],
   "source": [
    "query = \"Oh, oh\""
   ]
  },
  {
   "cell_type": "code",
   "execution_count": 21,
   "id": "750865d3-5659-4845-9178-fde01113afc1",
   "metadata": {},
   "outputs": [],
   "source": [
    "similarity_threshold = 4"
   ]
  },
  {
   "cell_type": "code",
   "execution_count": 22,
   "id": "883aabf5-61c2-4031-94d1-f34f3890a5ec",
   "metadata": {},
   "outputs": [],
   "source": [
    "top_k = 10"
   ]
  },
  {
   "cell_type": "code",
   "execution_count": 23,
   "id": "9e664a34-6eb5-4ef8-b4cc-9cdcd75082e2",
   "metadata": {},
   "outputs": [],
   "source": [
    "results = search_songs_by_word_or_phrase(query, extracted_data, faiss_index, model, top_k, similarity_threshold)\n"
   ]
  },
  {
   "cell_type": "code",
   "execution_count": 24,
   "id": "26fb9b53-ce75-4ff5-97ce-c0d788a07b80",
   "metadata": {},
   "outputs": [
    {
     "name": "stdout",
     "output_type": "stream",
     "text": [
      "No songs found containing the word/phrase: 'Oh, oh'\n"
     ]
    }
   ],
   "source": [
    "if results:\n",
    "    print(f\"Top {top_k} songs containing the word/phrase '{query}':\")\n",
    "    for title, similarity in results:\n",
    "        print(f\"Title: {title}, Similarity: {similarity:.4f}\")\n",
    "else:\n",
    "    print(f\"No songs found containing the word/phrase: '{query}'\")"
   ]
  },
  {
   "cell_type": "code",
   "execution_count": 301,
   "id": "b097f63d-948e-4c20-bed5-25c84bb243b4",
   "metadata": {},
   "outputs": [
    {
     "name": "stdout",
     "output_type": "stream",
     "text": [
      "Number of vectors in FAISS index: 100\n",
      "First few vectors in FAISS index:\n",
      "[[-0.05917441 -0.03241466  0.04516074 ... -0.04496421 -0.01286864\n",
      "  -0.04903262]\n",
      " [-0.03611477 -0.05216329  0.06939048 ... -0.01350493 -0.00953179\n",
      "  -0.09115995]\n",
      " [ 0.00309049 -0.03903301  0.12974522 ...  0.0284683  -0.08128463\n",
      "  -0.12803575]\n",
      " [-0.07103611 -0.03646065  0.07148556 ...  0.02152741 -0.08043654\n",
      "  -0.09750905]\n",
      " [-0.02360871  0.00433577  0.08493806 ... -0.02512681 -0.06737459\n",
      "  -0.09258062]]\n"
     ]
    }
   ],
   "source": [
    "# Check the number of vectors in the FAISS index\n",
    "print(f\"Number of vectors in FAISS index: {faiss_index['index'].ntotal}\")\n",
    "\n",
    "# Check the first few vectors in the FAISS index\n",
    "print(\"First few vectors in FAISS index:\")\n",
    "print(faiss_index[\"index\"].reconstruct_n(0, min(5, faiss_index[\"index\"].ntotal)))\n"
   ]
  },
  {
   "cell_type": "code",
   "execution_count": 302,
   "id": "9d9079d3-47e4-428f-aabe-cd849f9771f2",
   "metadata": {},
   "outputs": [
    {
     "name": "stdout",
     "output_type": "stream",
     "text": [
      "Query vector:\n",
      "[ 4.82537672e-02  9.93916541e-02 -3.55676226e-02  8.95517617e-02\n",
      " -9.60402414e-02  5.57974875e-02  1.40093565e-01  5.98580576e-02\n",
      " -2.33554896e-02 -2.70822775e-02  6.63445294e-02 -3.07279117e-02\n",
      "  8.83587599e-02 -9.00981724e-02  1.27834370e-02  5.06016612e-02\n",
      "  4.08293717e-02  8.46594572e-03 -5.18636443e-02 -3.23123559e-02\n",
      "  6.49143010e-02  1.18162930e-01 -1.20536806e-02  4.28744145e-02\n",
      " -1.05945803e-02  3.47838774e-02 -2.40301285e-02  2.77031772e-02\n",
      "  7.05039427e-02  1.78749692e-02 -9.39764827e-02  3.10457163e-02\n",
      "  5.64716905e-02  1.28426880e-01  4.35699560e-02 -4.35039252e-02\n",
      " -3.21654417e-02 -2.06050277e-03 -2.66786013e-02 -3.62970494e-02\n",
      " -1.22207971e-02 -7.05498978e-02  2.39946209e-02 -4.86965803e-03\n",
      "  2.48031989e-02 -5.21616340e-02 -9.84121114e-02  2.39161085e-02\n",
      "  4.46803756e-02 -3.05246133e-02 -1.09827951e-01 -2.39416361e-02\n",
      " -5.17065600e-02 -1.04688443e-02  2.87273340e-02  4.65779491e-02\n",
      " -1.09065123e-01  3.19293089e-04 -2.41400711e-02 -3.14146616e-02\n",
      "  5.80781722e-04 -2.32943078e-03  3.66147906e-02  3.12210489e-02\n",
      "  2.09937654e-02 -9.50402766e-02  2.02567764e-02  5.86684607e-02\n",
      " -2.78356131e-02 -4.61124592e-02 -8.63463432e-02 -7.19009480e-03\n",
      " -4.33521271e-02  4.55548465e-02 -7.05775619e-02  6.12343103e-02\n",
      " -6.32153675e-02 -1.79903358e-02  8.81579984e-03  2.24727262e-02\n",
      " -4.97958176e-02 -3.65453288e-02 -1.24829654e-02  1.09210521e-01\n",
      "  8.83493945e-02 -2.35163458e-02  5.25600426e-02 -6.01715557e-02\n",
      "  6.57314435e-02 -3.10607608e-02 -1.63861550e-02 -2.98305247e-02\n",
      "  6.82508899e-03 -3.56006101e-02 -7.64407292e-02  4.75377850e-02\n",
      " -1.47746084e-02 -6.56558424e-02  4.29843217e-02  1.09085746e-01\n",
      "  4.06354778e-02  3.61958705e-02  6.22416730e-04 -3.19260806e-02\n",
      " -1.68370128e-01 -3.85297947e-02  8.36743116e-02 -4.78904322e-02\n",
      "  4.51235622e-02 -3.14862542e-02 -3.98980565e-02 -2.84148622e-02\n",
      " -7.83007443e-02 -1.45611763e-01 -1.41507639e-02 -1.24985881e-01\n",
      "  4.29480970e-02 -4.72365953e-02 -7.60962255e-03 -8.76743998e-03\n",
      "  9.38536134e-04  6.10125884e-02 -9.80195999e-02 -3.76771279e-02\n",
      " -5.45455180e-02 -4.74744756e-03  8.82150531e-02 -1.74488049e-33\n",
      "  4.25421409e-02 -1.42891882e-02  1.91796310e-02 -1.65276323e-02\n",
      "  1.74139114e-03  4.76407968e-02 -3.90958562e-02  7.33487681e-02\n",
      " -2.04360709e-02  6.14414811e-02  5.51749319e-02 -5.57452589e-02\n",
      "  3.81712429e-02 -7.59297842e-03 -4.62632477e-02 -5.92374383e-03\n",
      " -1.81245524e-02  2.20722537e-02  5.54496385e-02 -7.46979686e-06\n",
      " -3.96574140e-02  3.41365002e-02  4.29047644e-02  5.35376109e-02\n",
      "  6.03408776e-02  5.57531081e-02 -2.75147464e-02 -1.69294327e-02\n",
      "  1.49971750e-02 -5.98521857e-03  1.47892926e-02 -5.34362532e-02\n",
      " -6.58399388e-02 -5.65960295e-02  3.95137034e-02  4.66308817e-02\n",
      "  5.50586022e-02 -2.66559119e-03  6.99799182e-03  3.35230045e-02\n",
      " -5.23387268e-02 -3.75276729e-02  1.13162674e-01 -8.75620916e-02\n",
      "  6.94796816e-03 -3.72145921e-02 -9.21747684e-02 -1.26405926e-02\n",
      " -1.92782748e-02 -6.23518676e-02 -3.05156205e-02  4.63942699e-02\n",
      " -1.74585134e-02  9.22317710e-03  1.55116037e-01  2.49998178e-03\n",
      " -7.51633057e-03  1.25079691e-01 -4.56403382e-02  8.81782994e-02\n",
      " -4.66336273e-02 -2.53185127e-02  3.17988209e-02 -4.72163819e-02\n",
      "  1.04525676e-02  2.22995505e-03  1.86826603e-03 -4.34367359e-02\n",
      "  8.18354487e-02  2.06330549e-02  2.11729221e-02 -1.16946194e-02\n",
      "  4.76677669e-03 -1.86305288e-02 -3.03738173e-02 -4.05817518e-05\n",
      " -5.64047061e-02 -1.04014874e-02  2.97943084e-03  4.93642800e-02\n",
      " -2.87640560e-02 -1.67292804e-01  1.30791748e-02  8.17561448e-02\n",
      " -1.52748767e-02  6.60958886e-02  8.47916678e-02 -6.42756298e-02\n",
      "  8.10188055e-02 -4.50552292e-02 -2.32081823e-02  8.40974227e-03\n",
      " -3.90251316e-02  1.45143466e-02  2.93883290e-02 -2.05539618e-34\n",
      "  2.49358006e-02 -5.91100054e-03 -9.40918103e-02 -8.31165910e-03\n",
      "  2.67350543e-02 -1.99589916e-02  4.48433012e-02 -8.67584813e-03\n",
      "  3.04039158e-02  1.68764833e-04  5.87099651e-03  2.68810485e-02\n",
      "  3.17413583e-02 -7.36034140e-02  3.37483995e-02  5.81449866e-02\n",
      "  3.42425369e-02 -1.06757870e-02 -1.96665302e-02  7.34007955e-02\n",
      " -7.14208260e-02  3.34839933e-02 -8.31726640e-02 -1.00072417e-02\n",
      "  3.94663438e-02 -1.30185131e-02 -1.40068529e-04  1.92442741e-02\n",
      " -2.90692355e-02 -2.23853402e-02  7.23684765e-03 -8.68732184e-02\n",
      "  1.79632809e-02  6.50827214e-02 -9.14273858e-02 -1.04751037e-02\n",
      "  2.92052869e-02 -4.37527224e-02 -2.35338863e-02  3.68266292e-02\n",
      "  8.20572078e-02 -2.78188568e-02  4.12698723e-02  5.98767176e-02\n",
      " -1.38849132e-02 -1.14689441e-03 -8.74659494e-02 -4.00759205e-02\n",
      "  2.32888181e-02  1.58562511e-02  5.46996808e-03 -3.83789428e-02\n",
      " -6.98532686e-02 -2.02653818e-02 -2.77280733e-02 -6.82110861e-02\n",
      " -4.42045219e-02  1.35258799e-02 -1.39002576e-02 -3.20193693e-02\n",
      " -4.40397188e-02  7.19331503e-02  2.93403510e-02  4.22815159e-02\n",
      "  2.62996051e-02 -7.10691735e-02 -3.40812504e-02 -1.73738785e-02\n",
      " -6.46721572e-02 -3.63048837e-02  3.59858293e-03 -8.74816626e-02\n",
      " -2.22685863e-03  7.50662247e-03  8.37846566e-03  5.99952266e-02\n",
      " -2.45241361e-04  5.30259833e-02 -4.41634320e-02  5.25424257e-02\n",
      "  9.95416790e-02  4.15905789e-02  6.10101095e-04  8.76089633e-02\n",
      " -1.62770809e-03 -1.41056683e-02 -7.77587742e-02  2.54357904e-02\n",
      " -3.95825468e-02 -1.98331848e-03  2.68178601e-02 -3.07076648e-02\n",
      " -5.35885356e-02  6.62928894e-02 -4.01029410e-03 -1.28840085e-08\n",
      " -5.00059947e-02 -1.80786476e-03 -1.41430171e-02  1.89673714e-02\n",
      "  9.64631364e-02  3.92567217e-02 -7.62397097e-03  4.20864820e-02\n",
      " -6.47269562e-02  6.14241790e-03  3.59863117e-02  7.10516563e-03\n",
      "  1.74537040e-02 -6.13121577e-02  3.59285362e-02 -2.68163625e-03\n",
      " -8.96683056e-03 -1.49480766e-02  1.71258599e-02 -7.66071975e-02\n",
      " -2.94931773e-02  3.06048747e-02 -4.70648147e-02  2.18811780e-02\n",
      "  3.10441735e-03  5.39100505e-02 -6.64023682e-02  2.89860945e-02\n",
      "  2.95463540e-02  1.51831489e-02  3.19457538e-02  2.56772246e-02\n",
      "  1.44404965e-02 -1.38059966e-02  6.47481754e-02 -2.86912136e-02\n",
      "  3.02294921e-02 -8.51815660e-03  2.48570996e-03 -2.61793341e-02\n",
      "  4.95372750e-02  4.76037227e-02 -5.20471185e-02 -8.10003560e-03\n",
      " -1.14139300e-02 -1.45060504e-02  6.26466721e-02 -9.25659016e-02\n",
      "  3.27838138e-02 -4.77696583e-02 -3.10385460e-03 -6.11828044e-02\n",
      "  2.52581630e-02 -5.37889376e-02 -1.01640441e-01  5.54542243e-02\n",
      "  1.30279675e-01  2.86690854e-02 -1.71001498e-02 -3.93722244e-02\n",
      "  4.62728105e-02  8.51948708e-02 -1.43902842e-02  3.50496508e-02]\n",
      "Query vector norm (should be 1.0): 1.0\n"
     ]
    }
   ],
   "source": [
    "# Generate and normalize the query vector\n",
    "query = \"example query text\"  # Replace with your actual query\n",
    "query_vector = model.encode([query], show_progress_bar=False)[0]\n",
    "query_vector = query_vector / np.linalg.norm(query_vector)\n",
    "\n",
    "# Print the query vector\n",
    "print(\"Query vector:\")\n",
    "print(query_vector)\n",
    "\n",
    "# Check if the query vector is valid\n",
    "print(\"Query vector norm (should be 1.0):\", np.linalg.norm(query_vector))\n"
   ]
  },
  {
   "cell_type": "code",
   "execution_count": 303,
   "id": "200ead6f-a26d-4d96-8b3a-fc4fe6c7f785",
   "metadata": {},
   "outputs": [
    {
     "name": "stdout",
     "output_type": "stream",
     "text": [
      "Distances from FAISS search:\n",
      "[[1.7476499 1.7500359 1.7580174 1.7828362 1.7857184]]\n",
      "Indices from FAISS search:\n",
      "[[88 18 33 54 89]]\n"
     ]
    }
   ],
   "source": [
    "# Perform a search in the FAISS index\n",
    "distances, indices = faiss_index[\"index\"].search(np.array([query_vector]).astype(\"float32\"), 5)\n",
    "\n",
    "# Print the raw distances and indices\n",
    "print(\"Distances from FAISS search:\")\n",
    "print(distances)\n",
    "print(\"Indices from FAISS search:\")\n",
    "print(indices)"
   ]
  },
  {
   "cell_type": "code",
   "execution_count": 1,
   "id": "2519380f-645f-4af3-be54-5be9a340ca89",
   "metadata": {},
   "outputs": [
    {
     "name": "stdout",
     "output_type": "stream",
     "text": [
      "Note: you may need to restart the kernel to use updated packages.\n"
     ]
    }
   ],
   "source": [
    "pip freeze>requirements.txt"
   ]
  }
 ],
 "metadata": {
  "kernelspec": {
   "display_name": "Python 3 (ipykernel)",
   "language": "python",
   "name": "python3"
  },
  "language_info": {
   "codemirror_mode": {
    "name": "ipython",
    "version": 3
   },
   "file_extension": ".py",
   "mimetype": "text/x-python",
   "name": "python",
   "nbconvert_exporter": "python",
   "pygments_lexer": "ipython3",
   "version": "3.11.7"
  },
  "widgets": {
   "application/vnd.jupyter.widget-state+json": {
    "state": {
     "341e0cbb9f9446b0a3cf268c59d61ce1": {
      "model_module": "@jupyter-widgets/controls",
      "model_module_version": "2.0.0",
      "model_name": "HTMLStyleModel",
      "state": {
       "description_width": "",
       "font_size": null,
       "text_color": null
      }
     },
     "6e4d3b68d6f04739987ce398e9e9c7dd": {
      "model_module": "@jupyter-widgets/controls",
      "model_module_version": "2.0.0",
      "model_name": "ProgressStyleModel",
      "state": {
       "description_width": ""
      }
     },
     "821de89fea964ac49d79701b432416b6": {
      "model_module": "@jupyter-widgets/controls",
      "model_module_version": "2.0.0",
      "model_name": "FloatProgressModel",
      "state": {
       "bar_style": "success",
       "layout": "IPY_MODEL_f9cbbdd3642d447689fb844f5d60e95b",
       "max": 7,
       "style": "IPY_MODEL_6e4d3b68d6f04739987ce398e9e9c7dd",
       "value": 7
      }
     },
     "8a19284b71804bc88d2e1fe69b9158ca": {
      "model_module": "@jupyter-widgets/controls",
      "model_module_version": "2.0.0",
      "model_name": "HTMLModel",
      "state": {
       "layout": "IPY_MODEL_deda03cf90b048cf9cbef07236170f69",
       "style": "IPY_MODEL_341e0cbb9f9446b0a3cf268c59d61ce1",
       "value": " 7/7 [01:02&lt;00:00,  6.40s/it]"
      }
     },
     "9d0be0cb912744a297870f22784f7c29": {
      "model_module": "@jupyter-widgets/base",
      "model_module_version": "2.0.0",
      "model_name": "LayoutModel",
      "state": {}
     },
     "abc1e1b15e824847ac31893427c1d3e1": {
      "model_module": "@jupyter-widgets/controls",
      "model_module_version": "2.0.0",
      "model_name": "HBoxModel",
      "state": {
       "children": [
        "IPY_MODEL_b1e5e6a85a3f43a1897b3f33b4711732",
        "IPY_MODEL_821de89fea964ac49d79701b432416b6",
        "IPY_MODEL_8a19284b71804bc88d2e1fe69b9158ca"
       ],
       "layout": "IPY_MODEL_b4e8cd24791c483fa9d95b96dd97d352"
      }
     },
     "b1e5e6a85a3f43a1897b3f33b4711732": {
      "model_module": "@jupyter-widgets/controls",
      "model_module_version": "2.0.0",
      "model_name": "HTMLModel",
      "state": {
       "layout": "IPY_MODEL_9d0be0cb912744a297870f22784f7c29",
       "style": "IPY_MODEL_f0df1330d8fb42279ef1f8cd900ff7de",
       "value": "Batches: 100%"
      }
     },
     "b4e8cd24791c483fa9d95b96dd97d352": {
      "model_module": "@jupyter-widgets/base",
      "model_module_version": "2.0.0",
      "model_name": "LayoutModel",
      "state": {}
     },
     "deda03cf90b048cf9cbef07236170f69": {
      "model_module": "@jupyter-widgets/base",
      "model_module_version": "2.0.0",
      "model_name": "LayoutModel",
      "state": {}
     },
     "f0df1330d8fb42279ef1f8cd900ff7de": {
      "model_module": "@jupyter-widgets/controls",
      "model_module_version": "2.0.0",
      "model_name": "HTMLStyleModel",
      "state": {
       "description_width": "",
       "font_size": null,
       "text_color": null
      }
     },
     "f9cbbdd3642d447689fb844f5d60e95b": {
      "model_module": "@jupyter-widgets/base",
      "model_module_version": "2.0.0",
      "model_name": "LayoutModel",
      "state": {}
     }
    },
    "version_major": 2,
    "version_minor": 0
   }
  }
 },
 "nbformat": 4,
 "nbformat_minor": 5
}
