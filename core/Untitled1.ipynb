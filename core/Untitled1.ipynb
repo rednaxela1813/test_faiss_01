{
 "cells": [
  {
   "cell_type": "code",
   "execution_count": 1,
   "id": "2a5971d5",
   "metadata": {},
   "outputs": [],
   "source": [
    "import os"
   ]
  },
  {
   "cell_type": "code",
   "execution_count": 2,
   "id": "0501c6ce-d961-4adc-a152-970a19cc2585",
   "metadata": {},
   "outputs": [],
   "source": [
    "import shutil"
   ]
  },
  {
   "cell_type": "code",
   "execution_count": 3,
   "id": "846f1641-9a8b-4d88-b721-74e0a51ed82c",
   "metadata": {},
   "outputs": [],
   "source": [
    "def process_and_copy_files(source_dir, target_dir):\n",
    "     \n",
    "    #Processes and copies text files from the source directory to the target directory.\n",
    "\n",
    "    #This function performs the following steps:\n",
    "   # 1. Checks if the target directory exists; if not, it creates it.\n",
    "   # 2. Iterates through all files in the source directory and its subdirectories.\n",
    "   # 3. Identifies files with a \".txt\" extension.\n",
    "   # 4. Reads the content of each text file, removes the first line (assumed to be metadata),\n",
    "   #    and writes the remaining content to a new file in the target directory.\n",
    "\n",
    "   # Args:\n",
    "   #     source_dir (str): The path to the source directory containing the text files.\n",
    "   #     target_dir (str): The path to the target directory where processed files will be saved.\n",
    "\n",
    "   # Returns:\n",
    "   #     None\n",
    "    \n",
    "    if not os.path.exists(target_dir):\n",
    "        print(f\"Creating target directory: {target_dir}\")\n",
    "        os.makedirs(target_dir)\n",
    "    else:\n",
    "        print(f\"Target directory already exists: {target_dir}\")\n",
    "    \n",
    "    for root, _, files in os.walk(source_dir):\n",
    "        for file in files:\n",
    "            if file.endswith(\".txt\"):\n",
    "                source_path_raw = os.path.join(root, file)\n",
    "                target_path_raw = os.path.join(target_dir, file)\n",
    "                with open(source_path_raw, \"r\", encoding=\"utf-8\") as source_file:\n",
    "                    lines = source_file.readlines()\n",
    "                # Remove the first line (metadata) and save the rest\n",
    "                processed_lines = lines[1:]\n",
    "                with open(target_path_raw, \"w\", encoding=\"utf-8\") as target_file:\n",
    "                    target_file.writelines(processed_lines)"
   ]
  },
  {
   "cell_type": "code",
   "execution_count": 4,
   "id": "3bd5bf88-56ef-4ccf-8971-1f4b38210559",
   "metadata": {},
   "outputs": [],
   "source": [
    "import random"
   ]
  },
  {
   "cell_type": "code",
   "execution_count": 5,
   "id": "2051bab7-c550-4288-bf18-db3157cd2fe4",
   "metadata": {},
   "outputs": [],
   "source": [
    "from sentence_transformers import SentenceTransformer"
   ]
  },
  {
   "cell_type": "code",
   "execution_count": 6,
   "id": "ffb912b3-a2b4-4419-8d5f-0c17c0b716ed",
   "metadata": {},
   "outputs": [],
   "source": [
    "def extract_words_from_files(target_dir, num_files=100, num_words=200):\n",
    "    \n",
    "  #  Extracts a limited number of words from a random selection of text files in the target directory.\n",
    "\n",
    " #   This function performs the following steps:\n",
    " #   1. Collects all text files in the specified target directory.\n",
    " #   2. Randomly selects a specified number of files (`num_files`) or fewer if there are not enough files.\n",
    " #   3. For each selected file:\n",
    " #       - Reads the content of the file.\n",
    " #       - Skips the file if it is empty.\n",
    " #       - Extracts the first `num_words` words from the file's content.\n",
    " #       - Stores the extracted words along with the file's title (derived from the filename) in a list.\n",
    " #   4. Returns the list of tuples, where each tuple contains the file title and the extracted text.\n",
    "\n",
    " #   Args:\n",
    " #       target_dir (str): The path to the directory containing the text files.\n",
    " #       num_files (int, optional): The maximum number of files to process. Defaults to 200.\n",
    " #       num_words (int, optional): The maximum number of words to extract from each file. Defaults to 200.\n",
    "\n",
    " #   Returns:\n",
    " #       list: A list of tuples, where each tuple contains:\n",
    " #             - The title of the file (str).\n",
    " #             - The extracted text (str) limited to `num_words` words.\n",
    "    \n",
    "    \n",
    "    # Define words to be deleted\n",
    "    words_for_delete = {\"[Pre-Chorus]\", \"[Verse 2]\", \"[Verse 1]\", \"[Chorus]\", \"[Post-Chorus]\", \"[Breakdown]\", \"[Outro]\", \"[Bridge]\"}\n",
    "    \n",
    "    # Collect all text files in the target directory\n",
    "    all_files = [os.path.join(target_dir, file) for file in os.listdir(target_dir) if file.endswith(\".txt\")]\n",
    "    \n",
    "    # Randomly select files\n",
    "    selected_files = random.sample(all_files, min(num_files, len(all_files)))\n",
    "    \n",
    "    extracted_data = [] \n",
    "    \n",
    "    for file_path in selected_files:\n",
    "        song_title = os.path.splitext(os.path.basename(file_path))[0]\n",
    "        \n",
    "        with open(file_path, \"r\", encoding=\"utf-8\") as file:\n",
    "            content = file.read()\n",
    "            \n",
    "            # Skip empty files\n",
    "            if not content.strip():\n",
    "                continue\n",
    "            \n",
    "            # Extract words, excluding specified words\n",
    "            words = [word for word in content.split() if word not in words_for_delete]\n",
    "            \n",
    "           # print(words)\n",
    "            \n",
    "            # Limit to the first `num_words`\n",
    "            extracted_text = \" \".join(words[:num_words])\n",
    "           # print(extracted_text)\n",
    "            # Append the result to the list\n",
    "            extracted_data.append((song_title, extracted_text))\n",
    "            #print(extracted_data)\n",
    "            \n",
    "    print(f\"Processed {len(extracted_data)} files.\")\n",
    "    for title, text in extracted_data[:5]:  # Print only the first 5 entries\n",
    "        print(f\"Title: {title}, Extracted Text: {text[:50]}...\")  # Print a snippet of the text\n",
    "         \n",
    "    \n",
    "    return extracted_data"
   ]
  },
  {
   "cell_type": "code",
   "execution_count": 7,
   "id": "8e179d51-4616-4a7b-9c20-fbec331da916",
   "metadata": {},
   "outputs": [],
   "source": [
    "model = SentenceTransformer(\"sentence-transformers/all-MiniLM-L6-v2\")"
   ]
  },
  {
   "cell_type": "code",
   "execution_count": 8,
   "id": "2ae48cde-0f8b-408d-b532-ce4391484368",
   "metadata": {},
   "outputs": [],
   "source": [
    "def generate_vectors(text_data, model):\n",
    "    #Generates vector representations for a collection of song texts using a given model.\n",
    "\n",
    "   # This function performs the following steps:\n",
    "   # 1. Extracts song texts and their corresponding titles from the input data.\n",
    "   # 2. Uses the provided model to encode the song texts into vector representations.\n",
    "   # 3. Combines the song titles with their corresponding vectors into a list of tuples.\n",
    "   # 4. Returns the list of tuples, where each tuple contains a song title and its vector.\n",
    "\n",
    "    #Args:\n",
    "   #     text_data (list): A list of tuples, where each tuple contains:\n",
    "    #                      - The title of the song (str).\n",
    "     #                     - The text of the song (str).\n",
    "   #     model (object): A model with an `encode` method that generates vector representations\n",
    "    #                    for a list of texts. The `encode` method should support the following parameters:\n",
    "    #                    - `batch_size` (int): The number of texts to process in a single batch.\n",
    "     #                   - `show_progress_bar` (bool): Whether to display a progress bar during encoding.\n",
    "\n",
    "    #Returns:\n",
    "    #    list: A list of tuples, where each tuple contains:\n",
    "    #          - The title of the song (str).\n",
    "    #          - The vector representation of the song text (numpy array or similar format).\n",
    "    # \n",
    "    song_texts = [text for _, text in text_data]\n",
    "    song_titles = [title for title, _ in text_data]\n",
    "    \n",
    "    # Generate vectors for the song texts\n",
    "    vectors = model.encode(song_texts, batch_size=16, show_progress_bar=True)\n",
    "    \n",
    "    # Combine song titles with their corresponding vectors\n",
    "    song_vectors = [(title, vector) for title, vector in zip(song_titles, vectors)]\n",
    "    \n",
    "    return song_vectors"
   ]
  },
  {
   "cell_type": "code",
   "execution_count": 9,
   "id": "23c6fe41-1068-460d-910a-5940b215ab4c",
   "metadata": {},
   "outputs": [],
   "source": [
    "import faiss"
   ]
  },
  {
   "cell_type": "code",
   "execution_count": 10,
   "id": "7e601f2d-b284-4981-b484-22c4fd830aef",
   "metadata": {},
   "outputs": [],
   "source": [
    "import numpy as np"
   ]
  },
  {
   "cell_type": "code",
   "execution_count": 11,
   "id": "c1bbe77b-ee92-477a-ae9f-cbc57b7645ed",
   "metadata": {},
   "outputs": [],
   "source": [
    "def create_faiss_index_with_titles(song_vectors):\n",
    "    \n",
    "   \n",
    "    titles = [item[0] for item in song_vectors]\n",
    "    vectors = np.array([item[1] for item in song_vectors]).astype(\"float32\")  # Ensure correct dtype\n",
    "\n",
    "    # Normalize the vectors\n",
    "    vectors = vectors / np.linalg.norm(vectors, axis=1, keepdims=True)\n",
    "\n",
    "    # Create the FAISS index\n",
    "    dimension = vectors.shape[1]  # Vector dimension\n",
    "    index = faiss.IndexFlatL2(dimension)  # L2 distance index\n",
    "    index.add(vectors)  # Add normalized vectors to the index\n",
    "\n",
    "    return {\"index\": index, \"titles\": titles}"
   ]
  },
  {
   "cell_type": "code",
   "execution_count": 13,
   "id": "a1b07121-85e4-4036-8b43-fb5e5009ebc8",
   "metadata": {},
   "outputs": [],
   "source": [
    "def search_songs_by_word_or_phrase(query, extracted_data, faiss_index, model, top_k=10, similarity_threshold=0.1):\n",
    "    \n",
    "   # Search for the top K most similar songs to the query using FAISS.\n",
    "\n",
    "  #  Args:\n",
    "   #     query (str): The word or phrase to search for.\n",
    "   #     extracted_data (list): The original dataset of song titles and texts (not used here but kept for reference).\n",
    "    #    faiss_index (dict): A dictionary containing the FAISS index and song titles.\n",
    "   #     model (SentenceTransformer): The model used to encode the query into a vector.\n",
    "    #    top_k (int): The number of top results to return.\n",
    "    #    similarity_threshold (float): The minimum similarity score to consider a result valid.\n",
    "\n",
    "   # Returns:\n",
    "   #     list: A list of tuples containing the song title and similarity score for valid matches.\n",
    "   \n",
    "    # Generate a vector for the query\n",
    "    query_vector = model.encode([query], show_progress_bar=False)[0]\n",
    "\n",
    "    # Normalize the query vector\n",
    "    query_vector = query_vector / np.linalg.norm(query_vector)\n",
    "\n",
    "    # Search for the top K most similar songs in the FAISS index\n",
    "    distances, indices = faiss_index[\"index\"].search(np.array([query_vector]).astype(\"float32\"), top_k)\n",
    "\n",
    "    \n",
    "\n",
    "    # Map the FAISS indices back to the song titles and filter by similarity threshold\n",
    "    results = []\n",
    "    words_for_delete = {\"\"}\n",
    "    \n",
    "    for i in range(len(indices[0])):\n",
    "        faiss_title = faiss_index[\"titles\"][indices[0][i]]\n",
    "        \n",
    "        similarity = 1 - distances[0][i]  # Convert L2 distance to similarity (1 - distance)\n",
    "       \n",
    "\n",
    "       # if similarity >= similarity_threshold:  # Only include results above the threshold\n",
    "       #     results.append((faiss_title, similarity))\n",
    "            \n",
    "        results.append((faiss_title, similarity))\n",
    "    return results"
   ]
  },
  {
   "cell_type": "code",
   "execution_count": 14,
   "id": "d34c60f7-423e-416b-8faf-5a93d0a3dad5",
   "metadata": {},
   "outputs": [],
   "source": [
    "source_dir = \"../raw_data/Taylor-Swift-Lyrics/data/Albums\""
   ]
  },
  {
   "cell_type": "code",
   "execution_count": 15,
   "id": "82f5da97-c55d-4dca-8ef5-765af01607ad",
   "metadata": {},
   "outputs": [],
   "source": [
    "target_dir = \"../data\""
   ]
  },
  {
   "cell_type": "code",
   "execution_count": 16,
   "id": "97ffdff5-efc9-4da4-a84a-92272cdd22e8",
   "metadata": {},
   "outputs": [
    {
     "name": "stdout",
     "output_type": "stream",
     "text": [
      "Target directory already exists: ../data\n"
     ]
    }
   ],
   "source": [
    "process_and_copy_files(source_dir, target_dir)"
   ]
  },
  {
   "cell_type": "code",
   "execution_count": 18,
   "id": "d862229a-bbec-410f-a99d-4fa514efaa40",
   "metadata": {},
   "outputs": [
    {
     "name": "stdout",
     "output_type": "stream",
     "text": [
      "Processed 99 files.\n",
      "Title: SayDontGo_TaylorsVersion__FromTheVault_, Extracted Text: I've known it from the very start We’re a shot in ...\n",
      "Title: Question____, Extracted Text: I remember [Verse 1] Good girl, sad boy Big city, ...\n",
      "Title: TheLuckyOne_TaylorsVersion_, Extracted Text: New to town with a made-up name In the angel's cit...\n",
      "Title: Breathe_TaylorsVersion_, Extracted Text: I see your face in my mind as I drive away 'Cause ...\n",
      "Title: AllTooWell, Extracted Text: I walked through the door with you, the air was co...\n"
     ]
    }
   ],
   "source": [
    "extracted_data = extract_words_from_files(target_dir)\n"
   ]
  },
  {
   "cell_type": "code",
   "execution_count": null,
   "id": "15268906-9d29-4409-b867-1b314457f8d8",
   "metadata": {},
   "outputs": [
    {
     "data": {
      "application/vnd.jupyter.widget-view+json": {
       "model_id": "88cb216eb5574983942970306687e560",
       "version_major": 2,
       "version_minor": 0
      },
      "text/plain": [
       "Batches:   0%|          | 0/7 [00:00<?, ?it/s]"
      ]
     },
     "metadata": {},
     "output_type": "display_data"
    }
   ],
   "source": [
    "song_vectors = generate_vectors(extracted_data, model)\n"
   ]
  },
  {
   "cell_type": "code",
   "execution_count": 41,
   "id": "7cff6434-1265-4933-993a-44cd828a179e",
   "metadata": {},
   "outputs": [],
   "source": [
    "faiss_index = create_faiss_index_with_titles(song_vectors)"
   ]
  },
  {
   "cell_type": "code",
   "execution_count": 42,
   "id": "fd4a4e18-9636-4260-82ee-f5e67c6b101e",
   "metadata": {},
   "outputs": [],
   "source": [
    "query = \"\"\"Because I'm proud of it as a song\"\"\""
   ]
  },
  {
   "cell_type": "code",
   "execution_count": 43,
   "id": "750865d3-5659-4845-9178-fde01113afc1",
   "metadata": {},
   "outputs": [],
   "source": [
    "similarity_threshold = 0.1"
   ]
  },
  {
   "cell_type": "code",
   "execution_count": 44,
   "id": "883aabf5-61c2-4031-94d1-f34f3890a5ec",
   "metadata": {},
   "outputs": [],
   "source": [
    "top_k = 10"
   ]
  },
  {
   "cell_type": "code",
   "execution_count": 45,
   "id": "9e664a34-6eb5-4ef8-b4cc-9cdcd75082e2",
   "metadata": {},
   "outputs": [],
   "source": [
    "results = search_songs_by_word_or_phrase(query, extracted_data, faiss_index, model, top_k, similarity_threshold)\n"
   ]
  },
  {
   "cell_type": "code",
   "execution_count": 46,
   "id": "26fb9b53-ce75-4ff5-97ce-c0d788a07b80",
   "metadata": {},
   "outputs": [
    {
     "name": "stdout",
     "output_type": "stream",
     "text": [
      "Top 10 songs containing the word/phrase 'Because I'm proud of it as a song':\n",
      "Title: WenchRench, Similarity: -0.4162\n",
      "Title: TheGods, Similarity: -0.4316\n",
      "Title: hoax, Similarity: -0.4330\n",
      "Title: SnowOnTheBeach, Similarity: -0.4385\n",
      "Title: NewRomantics_TaylorsVersion_, Similarity: -0.4517\n",
      "Title: IKnewYouWereTrouble_TaylorsVersion_, Similarity: -0.4533\n",
      "Title: CallItWhatYouWant, Similarity: -0.4534\n",
      "Title: WeWereHappy_TaylorsVersion__FromtheVault_, Similarity: -0.4564\n",
      "Title: 22, Similarity: -0.4590\n",
      "Title: Change, Similarity: -0.4705\n"
     ]
    }
   ],
   "source": [
    "if results:\n",
    "    print(f\"Top {top_k} songs containing the word/phrase '{query}':\")\n",
    "    for title, similarity in results:\n",
    "        print(f\"Title: {title}, Similarity: {similarity:.4f}\")\n",
    "else:\n",
    "    print(f\"No songs found containing the word/phrase: '{query}'\")"
   ]
  }
 ],
 "metadata": {
  "kernelspec": {
   "display_name": "Python 3 (ipykernel)",
   "language": "python",
   "name": "python3"
  },
  "language_info": {
   "codemirror_mode": {
    "name": "ipython",
    "version": 3
   },
   "file_extension": ".py",
   "mimetype": "text/x-python",
   "name": "python",
   "nbconvert_exporter": "python",
   "pygments_lexer": "ipython3",
   "version": "3.11.7"
  },
  "widgets": {
   "application/vnd.jupyter.widget-state+json": {
    "state": {},
    "version_major": 2,
    "version_minor": 0
   }
  }
 },
 "nbformat": 4,
 "nbformat_minor": 5
}
